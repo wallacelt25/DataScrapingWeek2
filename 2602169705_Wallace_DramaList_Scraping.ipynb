{
  "nbformat": 4,
  "nbformat_minor": 0,
  "metadata": {
    "colab": {
      "provenance": []
    },
    "kernelspec": {
      "name": "python3",
      "display_name": "Python 3"
    },
    "language_info": {
      "name": "python"
    }
  },
  "cells": [
    {
      "cell_type": "code",
      "execution_count": 104,
      "metadata": {
        "id": "aGuKhVZrR2VV"
      },
      "outputs": [],
      "source": [
        "from bs4 import BeautifulSoup\n",
        "import requests\n",
        "import re\n",
        "import pandas as pd"
      ]
    },
    {
      "cell_type": "code",
      "source": [
        "#Top Drama Ranking\n",
        "headers = {'Accept-Language': 'en-US,en;q=0.8'}\n",
        "url = 'https://mydramalist.com/shows/top'\n",
        "response = requests.get(url,headers=headers)\n",
        "soup = BeautifulSoup(response.text, \"html.parser\")"
      ],
      "metadata": {
        "id": "0--HPcQqUtm7"
      },
      "execution_count": 105,
      "outputs": []
    },
    {
      "cell_type": "code",
      "source": [
        "dramatitle = soup.select('h6.text-primary.title')\n",
        "print(dramatitle[0])\n",
        "print(\" \")\n",
        "print(\"how many titles are available?\",len(soup.select('h6.text-primary.title')))"
      ],
      "metadata": {
        "colab": {
          "base_uri": "https://localhost:8080/"
        },
        "id": "kxIVLp4-8NmC",
        "outputId": "12f35ce5-18e5-4853-c586-2844f73dce0e"
      },
      "execution_count": 106,
      "outputs": [
        {
          "output_type": "stream",
          "name": "stdout",
          "text": [
            "<h6 class=\"text-primary title\"><a href=\"/49231-move-to-heaven\">Move to Heaven</a>\n",
            "<a class=\"btn simple btn-manage-list\" data-id=\"49231\" data-stats=\"mylist:49231\" rel=\"nofollow\"><span><i class=\"far fa-plus\"></i></span></a>\n",
            "</h6>\n",
            " \n",
            "how many titles are available? 20\n"
          ]
        }
      ]
    },
    {
      "cell_type": "code",
      "source": [
        "text = soup.select('a')\n",
        "print(text)"
      ],
      "metadata": {
        "colab": {
          "base_uri": "https://localhost:8080/"
        },
        "id": "n-OtPeRxciwt",
        "outputId": "03dbc70d-ebfd-42f1-b287-d6cb299c8691"
      },
      "execution_count": 107,
      "outputs": [
        {
          "output_type": "stream",
          "name": "stdout",
          "text": [
            "[<a href=\"/\"><span class=\"nav-text\">Home</span></a>, <a href=\"/vip\" rel=\"external nofollow\"><span class=\"nav-text text-danger\">Hide ads</span></a>, <a href=\"/episode-calendar\"><span class=\"nav-text\">Calendar</span></a>, <a href=\"/list\"><span class=\"nav-text\">Lists</span></a>, <a href=\"/feeds\"><span class=\"nav-text\">Feeds</span></a>, <a href=\"/articles\"><span class=\"nav-text\">Articles</span></a>, <a href=\"/trailers\"><span class=\"nav-text\">Trailers</span></a>, <a href=\"/discussions\"><span class=\"nav-text\">Forums</span></a>, <a href=\"/contributors\"><span class=\"nav-text\">Contributors</span></a>, <a href=\"/games\"><span class=\"nav-text\">Games <span class=\"tag tag-success\">NEW</span></span></a>, <a href=\"/stats/leaderboards\"><span class=\"nav-text\">Stars Leaderboard <span class=\"tag tag-success\">NEW</span></span></a>, <a href=\"/\"><span class=\"nav-text\">Shows</span></a>, <a href=\"/shows/top\"><span class=\"nav-text\">Top Shows</span></a>, <a href=\"/shows/popular\"><span class=\"nav-text\">Most Popular Shows</span></a>, <a href=\"/shows/variety\"><span class=\"nav-text\">Variety Shows</span></a>, <a href=\"/shows/upcoming\"><span class=\"nav-text\">Upcoming</span></a>, <a href=\"/reviews/shows\"><span class=\"nav-text\">Reviews</span></a>, <a href=\"/recommendations/shows\"><span class=\"nav-text\">Recommendations</span></a>, <a href=\"/recommendations\" rel=\"external nofollow\"><span class=\"nav-text\">Recommended For You</span></a>, <a href=\"/add/title\" rel=\"external nofollow\"><span class=\"nav-text\">Add New Title</span></a>, <a href=\"/\"><span class=\"nav-text\">Movies</span></a>, <a href=\"/movies/top\"><span class=\"nav-text\">Top Movies</span></a>, <a href=\"/movies/popular\"><span class=\"nav-text\">Most Popular Movies</span></a>, <a href=\"/movies/upcoming\"><span class=\"nav-text\">Upcoming</span></a>, <a href=\"/reviews/movies\"><span class=\"nav-text\">Reviews</span></a>, <a href=\"/recommendations/movies\"><span class=\"nav-text\">Recommendations</span></a>, <a href=\"/add/title\"><span class=\"nav-text\">Add New Title</span></a>, <a href=\"/\"><span class=\"nav-text\">People</span></a>, <a href=\"/people/top\"><span class=\"nav-text\">Top Actors</span></a>, <a href=\"/add/person\" rel=\"external nofollow\"><span class=\"nav-text\">Add New Person</span></a>, <a class=\"btn-slide-menu navbar-item pull-right hidden-lg-up m-a-0 m-l\"><i class=\"fa fa-bars\"></i></a>, <a class=\"navbar-brand\" href=\"/\">\n",
            "<img alt=\"MyDramaList\" class=\"hidden-folded hidden-md-down inline\" height=\"24\" src=\"/assets/logo_w.png\" width=\"158\"/>\n",
            "<span class=\"hidden-folded hidden-lg-up inline\">MDL</span><span class=\"beta4 label label-xs danger\">v6.6</span></a>, <a class=\"nav-link m-l-sm\" href=\"/signup\"><span>Sign up</span></a>, <a class=\"nav-link nav-login m-l-sm\" href=\"/signin\"><span>Log in</span></a>, <a class=\"nav-link dropdown-toggle\" data-toggle=\"dropdown\" href=\"\"><span class=\"nav-text\">Home</span></a>, <a class=\"dropdown-item\" href=\"/feeds\"><span class=\"nav-text\">Feeds</span></a>, <a class=\"dropdown-item\" href=\"/episode-calendar\"><span class=\"nav-text\">Calendar</span></a>, <a class=\"dropdown-item\" href=\"/articles\"><span class=\"nav-text\">Articles</span></a>, <a class=\"dropdown-item\" href=\"/trailers\"><span class=\"nav-text\">Trailers</span></a>, <a class=\"nav-link dropdown-toggle\" data-toggle=\"dropdown\" href=\"\"><span class=\"nav-text\">Explore</span></a>, <a class=\"dropdown-item\" href=\"/shows/top\">Top Shows</a>, <a class=\"dropdown-item\" href=\"/shows/popular\">Most Popular Shows</a>, <a class=\"dropdown-item\" href=\"/shows/variety\">Variety Shows</a>, <a class=\"dropdown-item\" href=\"/shows/newest\">Newest</a>, <a class=\"dropdown-item\" href=\"/shows/upcoming\">Upcoming</a>, <a class=\"dropdown-item\" href=\"/reviews/shows\">Reviews</a>, <a class=\"dropdown-item\" href=\"/recommendations/shows\">Recommendations</a>, <a class=\"dropdown-item\" href=\"/recommendations\" rel=\"external nofollow\">Recommended For You</a>, <a class=\"dropdown-item\" href=\"/add/title\" rel=\"external nofollow\">Add New Title</a>, <a class=\"dropdown-item\" href=\"/movies/top\">Top Movies</a>, <a class=\"dropdown-item\" href=\"/movies/popular\">Most Popular Movies</a>, <a class=\"dropdown-item\" href=\"/movies/newest\">Newest</a>, <a class=\"dropdown-item\" href=\"/movies/upcoming\">Upcoming</a>, <a class=\"dropdown-item\" href=\"/reviews/movies\">Reviews</a>, <a class=\"dropdown-item\" href=\"/recommendations/movies\">Recommendations</a>, <a class=\"dropdown-item\" href=\"/people/top\">Top Actors</a>, <a class=\"dropdown-item\" href=\"/add/person\" rel=\"external nofollow\">Add New Person</a>, <a class=\"utm-event\" href=\"/stats/leaderboards/monthly\" rel=\"nofollow\" target=\"_blank\"> <div style=\"position: relative;\"> <img class=\"img-responsive lazy\" data-src=\"https://i.mydramalist.com/X73lp_3f.png\" height=\"205\" width=\"300\"> </img></div> <b class=\"text-primary block m-t-sm\"><span class=\"tag tag-primary\">Wanted</span>Who's the most loved Actor on MDL?</b> <div class=\"text-muted\">Featured</div>\n",
            "</a>, <a class=\"nav-link dropdown-toggle\" data-toggle=\"dropdown\" href=\"/discussions\"><span class=\"nav-text\">Community</span> <span class=\"tag tag-success\">NEW</span></a>, <a class=\"dropdown-item\" href=\"/feeds\">Feeds</a>, <a class=\"dropdown-item\" href=\"/list\">Lists</a>, <a class=\"dropdown-item\" href=\"/discussions\">Forums</a>, <a class=\"dropdown-item\" href=\"/contributors\">Contributors</a>, <a class=\"dropdown-item\" href=\"/games\">Games <span class=\"tag tag-success\">NEW</span></a>, <a class=\"dropdown-item\" href=\"/stats/leaderboards\">Stars Leaderboard <span class=\"tag tag-success\">NEW</span></a>, <a class=\"nav-link\" href=\"/episode-calendar\"><span class=\"nav-text\">Calendar</span></a>, <a class=\"block\" href=\"/49231-move-to-heaven\">\n",
            "<img alt=\"Move to Heaven\" class=\"img-responsive cover lazy\" data-src=\"https://i.mydramalist.com/Rle36_4s.jpg?v=1\"/>\n",
            "</a>, <a href=\"/49231-move-to-heaven\">Move to Heaven</a>, <a class=\"btn simple btn-manage-list\" data-id=\"49231\" data-stats=\"mylist:49231\" rel=\"nofollow\"><span><i class=\"far fa-plus\"></i></span></a>, <a class=\"block\" href=\"/702267-weak-hero\">\n",
            "<img alt=\"Weak Hero Class 1\" class=\"img-responsive cover lazy\" data-src=\"https://i.mydramalist.com/pq2lr_4s.jpg?v=1\"/>\n",
            "</a>, <a href=\"/702267-weak-hero\">Weak Hero Class 1</a>, <a class=\"btn simple btn-manage-list\" data-id=\"702267\" data-stats=\"mylist:702267\" rel=\"nofollow\"><span><i class=\"far fa-plus\"></i></span></a>, <a class=\"block\" href=\"/57173-hospital-playlist-2\">\n",
            "<img alt=\"Hospital Playlist Season 2\" class=\"img-responsive cover lazy\" data-src=\"https://i.mydramalist.com/dKY0d_4s.jpg?v=1\"/>\n",
            "</a>, <a href=\"/57173-hospital-playlist-2\">Hospital Playlist Season 2</a>, <a class=\"btn simple btn-manage-list\" data-id=\"57173\" data-stats=\"mylist:57173\" rel=\"nofollow\"><span><i class=\"far fa-plus\"></i></span></a>, <a class=\"block\" href=\"/9025-nirvana-in-fire\">\n",
            "<img alt=\"Nirvana in Fire\" class=\"img-responsive cover lazy\" data-src=\"https://i.mydramalist.com/kV54ds.jpg?v=1\"/>\n",
            "</a>, <a href=\"/9025-nirvana-in-fire\">Nirvana in Fire</a>, <a class=\"btn simple btn-manage-list\" data-id=\"9025\" data-stats=\"mylist:9025\" rel=\"nofollow\"><span><i class=\"far fa-plus\"></i></span></a>, <a class=\"block\" href=\"/54625-flower-of-evil\">\n",
            "<img alt=\"Flower of Evil\" class=\"img-responsive cover lazy\" data-src=\"https://i.mydramalist.com/WAEAp_4s.jpg?v=1\"/>\n",
            "</a>, <a href=\"/54625-flower-of-evil\">Flower of Evil</a>, <a class=\"btn simple btn-manage-list\" data-id=\"54625\" data-stats=\"mylist:54625\" rel=\"nofollow\"><span><i class=\"far fa-plus\"></i></span></a>, <a class=\"block\" href=\"/36269-doctor-playbook\">\n",
            "<img alt=\"Hospital Playlist\" class=\"img-responsive cover lazy\" data-src=\"https://i.mydramalist.com/RXXL6_4s.jpg?v=1\"/>\n",
            "</a>, <a href=\"/36269-doctor-playbook\">Hospital Playlist</a>, <a class=\"btn simple btn-manage-list\" data-id=\"36269\" data-stats=\"mylist:36269\" rel=\"nofollow\"><span><i class=\"far fa-plus\"></i></span></a>, <a class=\"block\" href=\"/729705-hidden-love\">\n",
            "<img alt=\"Hidden Love\" class=\"img-responsive cover lazy\" data-src=\"https://i.mydramalist.com/x4vJO3_4s.jpg?v=1\"/>\n",
            "</a>, <a href=\"/729705-hidden-love\">Hidden Love</a>, <a class=\"btn simple btn-manage-list\" data-id=\"729705\" data-stats=\"mylist:729705\" rel=\"nofollow\"><span><i class=\"far fa-plus\"></i></span></a>, <a class=\"block\" href=\"/52939-can-this-person-be-translated\">\n",
            "<img alt=\"Alchemy of Souls\" class=\"img-responsive cover lazy\" data-src=\"https://i.mydramalist.com/Beg4z_4s.jpg?v=1\"/>\n",
            "</a>, <a href=\"/52939-can-this-person-be-translated\">Alchemy of Souls</a>, <a class=\"btn simple btn-manage-list\" data-id=\"52939\" data-stats=\"mylist:52939\" rel=\"nofollow\"><span><i class=\"far fa-plus\"></i></span></a>, <a class=\"block\" href=\"/25560-moving\">\n",
            "<img alt=\"Moving\" class=\"img-responsive cover lazy\" data-src=\"https://i.mydramalist.com/x4kN8X_4s.jpg?v=1\"/>\n",
            "</a>, <a href=\"/25560-moving\">Moving</a>, <a class=\"btn simple btn-manage-list\" data-id=\"25560\" data-stats=\"mylist:25560\" rel=\"nofollow\"><span><i class=\"far fa-plus\"></i></span></a>, <a class=\"btn-watch-online btn-sm btn white\" href=\"/redirect?q=https%3A%2F%2Fwww.disneyplus.com%2Fseries%2Fmoving%2F51eZUrK4LnAc&amp;utm_source=mdl&amp;utm_medium=page&amp;utm_campaign=disneyplus&amp;utm_content=25560\" rel=\"nofollow external\" style=\"padding:8px 12px;\" target=\"_blank\"><i class=\"fa fa-external-link\"></i> Watch Online</a>, <a class=\"block\" href=\"/697563-kai-duan\">\n",
            "<img alt=\"Reset\" class=\"img-responsive cover lazy\" data-src=\"https://i.mydramalist.com/qZyPz_4s.jpg?v=1\"/>\n",
            "</a>, <a href=\"/697563-kai-duan\">Reset</a>, <a class=\"btn simple btn-manage-list\" data-id=\"697563\" data-stats=\"mylist:697563\" rel=\"nofollow\"><span><i class=\"far fa-plus\"></i></span></a>, <a class=\"block\" href=\"/13544-reply-1988\">\n",
            "<img alt=\"Reply 1988\" class=\"img-responsive cover lazy\" data-src=\"https://i.mydramalist.com/EVe0p_4s.jpg?v=1\"/>\n",
            "</a>, <a href=\"/13544-reply-1988\">Reply 1988</a>, <a class=\"btn simple btn-manage-list\" data-id=\"13544\" data-stats=\"mylist:13544\" rel=\"nofollow\"><span><i class=\"far fa-plus\"></i></span></a>, <a class=\"block\" href=\"/25172-my-ajusshi\">\n",
            "<img alt=\"My Mister\" class=\"img-responsive cover lazy\" data-src=\"https://i.mydramalist.com/2lb8k_4s.jpg?v=1\"/>\n",
            "</a>, <a href=\"/25172-my-ajusshi\">My Mister</a>, <a class=\"btn simple btn-manage-list\" data-id=\"25172\" data-stats=\"mylist:25172\" rel=\"nofollow\"><span><i class=\"far fa-plus\"></i></span></a>, <a class=\"block\" href=\"/62295-luo-yao-knew-what-he-meant\">\n",
            "<img alt=\"When I Fly Towards You\" class=\"img-responsive cover lazy\" data-src=\"https://i.mydramalist.com/1wOO83_4s.jpg?v=1\"/>\n",
            "</a>, <a href=\"/62295-luo-yao-knew-what-he-meant\">When I Fly Towards You</a>, <a class=\"btn simple btn-manage-list\" data-id=\"62295\" data-stats=\"mylist:62295\" rel=\"nofollow\"><span><i class=\"far fa-plus\"></i></span></a>, <a class=\"block\" href=\"/2-1-litre-no-namida\">\n",
            "<img alt=\"1 Litre no Namida\" class=\"img-responsive cover lazy\" data-src=\"https://i.mydramalist.com/wXjEb_4s.jpg?v=1\"/>\n",
            "</a>, <a href=\"/2-1-litre-no-namida\">1 Litre no Namida</a>, <a class=\"btn simple btn-manage-list\" data-id=\"2\" data-stats=\"mylist:2\" rel=\"nofollow\"><span><i class=\"far fa-plus\"></i></span></a>, <a class=\"block\" href=\"/28674-joy-of-life\">\n",
            "<img alt=\"Joy of Life\" class=\"img-responsive cover lazy\" data-src=\"https://i.mydramalist.com/qwkz8s.jpg?v=1\"/>\n",
            "</a>, <a href=\"/28674-joy-of-life\">Joy of Life</a>, <a class=\"btn simple btn-manage-list\" data-id=\"28674\" data-stats=\"mylist:28674\" rel=\"nofollow\"><span><i class=\"far fa-plus\"></i></span></a>, <a class=\"block\" href=\"/729363-love-like-the-galaxy-part-2\">\n",
            "<img alt=\"Love Like the Galaxy: Part 2\" class=\"img-responsive cover lazy\" data-src=\"https://i.mydramalist.com/XYxmO_4s.jpg?v=1\"/>\n",
            "</a>, <a href=\"/729363-love-like-the-galaxy-part-2\">Love Like the Galaxy: Part 2</a>, <a class=\"btn simple btn-manage-list\" data-id=\"729363\" data-stats=\"mylist:729363\" rel=\"nofollow\"><span><i class=\"far fa-plus\"></i></span></a>, <a class=\"block\" href=\"/28723-the-untamed\">\n",
            "<img alt=\"The Untamed\" class=\"img-responsive cover lazy\" data-src=\"https://i.mydramalist.com/qOrz5s.jpg?v=1\"/>\n",
            "</a>, <a href=\"/28723-the-untamed\">The Untamed</a>, <a class=\"btn simple btn-manage-list\" data-id=\"28723\" data-stats=\"mylist:28723\" rel=\"nofollow\"><span><i class=\"far fa-plus\"></i></span></a>, <a class=\"block\" href=\"/713331-the-lotus-casebook\">\n",
            "<img alt=\"Mysterious Lotus Casebook\" class=\"img-responsive cover lazy\" data-src=\"https://i.mydramalist.com/kAozjj_4s.jpg?v=1\"/>\n",
            "</a>, <a href=\"/713331-the-lotus-casebook\">Mysterious Lotus Casebook</a>, <a class=\"btn simple btn-manage-list\" data-id=\"713331\" data-stats=\"mylist:713331\" rel=\"nofollow\"><span><i class=\"far fa-plus\"></i></span></a>, <a class=\"block\" href=\"/705857-umbrella\">\n",
            "<img alt=\"Under the Queen's Umbrella\" class=\"img-responsive cover lazy\" data-src=\"https://i.mydramalist.com/xZNgy_4s.jpg?v=1\"/>\n",
            "</a>, <a href=\"/705857-umbrella\">Under the Queen's Umbrella</a>, <a class=\"btn simple btn-manage-list\" data-id=\"705857\" data-stats=\"mylist:705857\" rel=\"nofollow\"><span><i class=\"far fa-plus\"></i></span></a>, <a class=\"block\" href=\"/39715-some-day-or-one-day\">\n",
            "<img alt=\"Someday or One Day\" class=\"img-responsive cover lazy\" data-src=\"https://i.mydramalist.com/1L7lys.jpg?v=1\"/>\n",
            "</a>, <a href=\"/39715-some-day-or-one-day\">Someday or One Day</a>, <a class=\"btn simple btn-manage-list\" data-id=\"39715\" data-stats=\"mylist:39715\" rel=\"nofollow\"><span><i class=\"far fa-plus\"></i></span></a>, <a class=\"btn-watch-online btn-sm btn white\" href=\"/redirect?q=https%3A%2F%2Fwww.disneyplus.com%2Fen-gb%2Fseries%2Fsomeday-or-one-day%2F7UXQlB1HHGsu&amp;utm_source=mdl&amp;utm_medium=page&amp;utm_campaign=disneyplus&amp;utm_content=39715\" rel=\"nofollow external\" style=\"padding:8px 12px;\" target=\"_blank\"><i class=\"fa fa-external-link\"></i> Watch Online</a>, <a class=\"page-link\" href=\"\">1</a>, <a class=\"page-link\" href=\"/shows/top?page=2\">2</a>, <a class=\"page-link\" href=\"/shows/top?page=3\">3</a>, <a class=\"page-link\" href=\"/shows/top?page=4\">4</a>, <a class=\"page-link\" href=\"/shows/top?page=5\">5</a>, <a class=\"page-link\" href=\"/shows/top?page=6\">6</a>, <a class=\"page-link\" href=\"/shows/top?page=2\"></a>, <a class=\"page-link\" href=\"/shows/top?page=250\"></a>, <a class=\"utm-event\" data-utm-c=\"1538776495701364736\" href=\"/stats/leaderboards/monthly\" rel=\"nofollow\" target=\"_blank\"> <div style=\"position: relative;\"> <img class=\"img-responsive lazy\" data-src=\"https://i.mydramalist.com/X73lp_3f.png\" height=\"205\" width=\"300\"/> </div> <b class=\"text-primary block m-t-sm\"><span class=\"tag tag-primary\">Wanted</span>Who's the most loved Actor on MDL?</b> <div class=\"text-muted\">Featured</div>\n",
            "</a>, <a class=\"btn btn-sm white\" href=\"/vip\" rel=\"nofollow external\">Help Support MyDramaList</a>, <a class=\"btn btn-icon rounded\" href=\"https://www.facebook.com/MyDramaListdotcom/\" target=\"_blank\"><i class=\"fab fa-facebook-f indigo\"></i></a>, <a class=\"btn btn-icon rounded\" href=\"https://twitter.com/My_Drama_List\" target=\"_blank\"><i class=\"fab fa-twitter light-blue\"></i></a>, <a class=\"btn btn-icon rounded\" href=\"https://www.youtube.com/channel/UCfnEmDUWC4m0k-tDDGVM2Uw?sub_confirmation=1\" target=\"_blank\"><i class=\"fab fa-youtube red\"></i></a>, <a class=\"text-ellipsis text-primary\" href=\"/discussions/lost-you-forever/112255-xiang-liu-and-you-yes-you\">Xiang Liu and You (Yes, You)</a>, <a class=\"text-ellipsis text-primary\" href=\"/discussions/general-asia-forum/91593-gl-drama-lovers-club\">GL Drama Lovers Club</a>, <a class=\"text-ellipsis text-primary\" href=\"/discussions/lost-you-forever/109849-tushan-jing-and-xiao-yao-s-romance\">Tushan Jing and Xiao Yao's romance</a>, <a class=\"text-ellipsis text-primary\" href=\"/discussions/recommendation-forum/119849-alcohol-or-substance-dependence\">Alcohol or substance dependence</a>, <a class=\"text-ellipsis text-primary\" href=\"/discussions/general-discussion/77471-cheng-yi-fandom\">Cheng Yi Fandom</a>, <a href=\"/discussions/support\"><i></i></a>, <a href=\"/\"><img alt=\"MyDramaList\" height=\"24\" src=\"/assets/logo_w.png\" width=\"158\"/></a>, <a class=\"btn btn-icon btn-social rounded btn-sm white\" href=\"https://www.facebook.com/MyDramaListdotcom/\"><i class=\"fab fa-facebook-f\"></i> <i class=\"fab fa-facebook-f indigo\"></i></a>, <a class=\"btn btn-icon btn-social rounded btn-sm white\" href=\"https://twitter.com/My_Drama_List\"><i class=\"fab fa-twitter\"></i> <i class=\"fab fa-twitter light-blue\"></i></a>, <a class=\"btn btn-icon btn-social rounded btn-sm white\" href=\"https://www.instagram.com/my.drama.list/\"><i class=\"fab fa-instagram\"></i> <i class=\"fab fa-instagram red\"></i></a>, <a class=\"btn btn-icon btn-social rounded btn-sm white\" href=\"https://www.youtube.com/channel/UCfnEmDUWC4m0k-tDDGVM2Uw\"><i class=\"fab fa-youtube\"></i> <i class=\"fab fa-youtube red\"></i></a>, <a class=\"btn btn-icon btn-social rounded btn-sm white\" href=\"https://mydramalist.com/rss\"><i class=\"fas fa-rss\"></i> <i class=\"fas fa-rss orange\"></i></a>, <a href=\"https://apps.apple.com/us/app/mydramalist-asian-film-db/id1463129320?platform=iphone\" rel=\"external nofollow\" target=\"_blank\"></a>, <a href=\"https://play.google.com/store/apps/details?id=com.mydramalist.app\" rel=\"external nofollow\" target=\"_blank\"></a>, <a href=\"/faq\" rel=\"external nofollow\"><span>FAQ</span></a>, <a href=\"/about\" rel=\"external nofollow\"><span>About Us</span></a>, <a href=\"/contact\" rel=\"external nofollow\"><span>Contact</span></a>, <a href=\"/terms\" rel=\"external nofollow\"><span>Terms</span></a>, <a href=\"/privacy\" rel=\"external nofollow\"><span>Privacy</span></a>, <a href=\"/vip\" rel=\"external nofollow\"><span>Support Us</span></a>, <a class=\"btn btn-icon btn-social rounded btn-sm white btn-dark-mode\" data-mode=\"1\" href=\"#\"><i class=\"fa fa-moon mode-dark\"></i> <i class=\"fa fa-moon info\"></i></a>, <a class=\"btn btn-icon btn-social rounded btn-sm white btn-dark-mode\" data-mode=\"0\" href=\"#\"><i class=\"fa fa-sun mode-light\"></i> <i class=\"fa fa-sun yellow\"></i></a>, <a href=\"/contact\" rel=\"external nofollow\"><span>Advertise</span></a>, <a href=\"/api_request\" rel=\"external nofollow\"><span>API</span></a>, <a href=\"/episode-calendar\"><span>K-Dramas Calendar</span></a>, <a href=\"/shows/top_korean_dramas\"><span>Top 100 K-Dramas</span></a>, <a href=\"/shows/top_japanese_dramas\"><span>Top 100 Japanese Dramas</span></a>, <a href=\"/shows/top_chinese_dramas\"><span>Top 100 Chinese Dramas</span></a>]\n"
          ]
        }
      ]
    },
    {
      "cell_type": "code",
      "source": [
        "dramatitles=[]\n",
        "title = [t.get_text().replace(\"\\n\",\"\") for t in dramatitle]\n",
        "for i in title:\n",
        "  dramatitles.append(i)\n",
        "  print(i)"
      ],
      "metadata": {
        "colab": {
          "base_uri": "https://localhost:8080/"
        },
        "id": "F8N0p2KHlSw3",
        "outputId": "cc1ac990-a762-4f73-9efb-ace4357caf2e"
      },
      "execution_count": 123,
      "outputs": [
        {
          "output_type": "stream",
          "name": "stdout",
          "text": [
            "Move to Heaven\n",
            "Weak Hero Class 1\n",
            "Hospital Playlist Season 2\n",
            "Nirvana in Fire\n",
            "Flower of Evil\n",
            "Hospital Playlist\n",
            "Hidden Love\n",
            "Alchemy of Souls\n",
            "Moving\n",
            "Reset\n",
            "Reply 1988\n",
            "My Mister\n",
            "When I Fly Towards You\n",
            "1 Litre no Namida\n",
            "Joy of Life\n",
            "Love Like the Galaxy: Part 2\n",
            "The Untamed\n",
            "Mysterious Lotus Casebook\n",
            "Under the Queen's Umbrella\n",
            "Someday or One Day\n"
          ]
        }
      ]
    },
    {
      "cell_type": "code",
      "source": [
        "Types = soup.select('span.text-muted')\n",
        "print(Types)"
      ],
      "metadata": {
        "colab": {
          "base_uri": "https://localhost:8080/"
        },
        "id": "_RpQSEu9lzSE",
        "outputId": "c9ef39a3-7184-4d0e-f52d-90e2d911996e"
      },
      "execution_count": 111,
      "outputs": [
        {
          "output_type": "stream",
          "name": "stdout",
          "text": [
            "[<span class=\"text-muted\">Korean Drama - 2021, 10 episodes</span>, <span class=\"text-muted\">Korean Drama - 2022, 8 episodes</span>, <span class=\"text-muted\">Korean Drama - 2021, 12 episodes</span>, <span class=\"text-muted\">Chinese Drama - 2015, 54 episodes</span>, <span class=\"text-muted\">Korean Drama - 2020, 16 episodes</span>, <span class=\"text-muted\">Korean Drama - 2020, 12 episodes</span>, <span class=\"text-muted\">Chinese Drama - 2023, 25 episodes</span>, <span class=\"text-muted\">Korean Drama - 2022, 20 episodes</span>, <span class=\"text-muted\">Korean Drama - 2023, 20 episodes</span>, <span class=\"text-muted\">Chinese Drama - 2022, 15 episodes</span>, <span class=\"text-muted\">Korean Drama - 2015, 20 episodes</span>, <span class=\"text-muted\">Korean Drama - 2018, 16 episodes</span>, <span class=\"text-muted\">Chinese Drama - 2023, 24 episodes</span>, <span class=\"text-muted\">Japanese Drama - 2005, 11 episodes</span>, <span class=\"text-muted\">Chinese Drama - 2019, 46 episodes</span>, <span class=\"text-muted\">Chinese Drama - 2022, 29 episodes</span>, <span class=\"text-muted\">Chinese Drama - 2019, 50 episodes</span>, <span class=\"text-muted\">Chinese Drama - 2023, 40 episodes</span>, <span class=\"text-muted\">Korean Drama - 2022, 16 episodes</span>, <span class=\"text-muted\">Taiwanese Drama - 2019, 13 episodes</span>]\n"
          ]
        }
      ]
    },
    {
      "cell_type": "code",
      "source": [
        "titletype=[]\n",
        "types = [t.get_text() for t in Types]\n",
        "for i in types:\n",
        "    # Split the text by the dash \"-\" and take the first part\n",
        "    parts = i.split(\" - \")\n",
        "    if len(parts) >= 1:\n",
        "        drama_type = parts[0]\n",
        "        titletype.append(drama_type)\n",
        "        print(drama_type)\n",
        "    else:\n",
        "        titletype.append(\"\")  # Append an empty string if no type is found\n",
        "        print(\"Type not found\")"
      ],
      "metadata": {
        "colab": {
          "base_uri": "https://localhost:8080/"
        },
        "id": "tPHHCksPmRvU",
        "outputId": "b18ce1e7-9236-4f24-a855-f3dcfa0549a0"
      },
      "execution_count": 133,
      "outputs": [
        {
          "output_type": "stream",
          "name": "stdout",
          "text": [
            "Korean Drama\n",
            "Korean Drama\n",
            "Korean Drama\n",
            "Chinese Drama\n",
            "Korean Drama\n",
            "Korean Drama\n",
            "Chinese Drama\n",
            "Korean Drama\n",
            "Korean Drama\n",
            "Chinese Drama\n",
            "Korean Drama\n",
            "Korean Drama\n",
            "Chinese Drama\n",
            "Japanese Drama\n",
            "Chinese Drama\n",
            "Chinese Drama\n",
            "Chinese Drama\n",
            "Chinese Drama\n",
            "Korean Drama\n",
            "Taiwanese Drama\n"
          ]
        }
      ]
    },
    {
      "cell_type": "code",
      "source": [
        "titleyear=[]\n",
        "for i in types:\n",
        "    year_match = re.search(r'\\d{4}', i)\n",
        "    if year_match:\n",
        "        year = year_match.group()\n",
        "        titleyear.append(year)\n",
        "        print(year)\n",
        "    else:\n",
        "        titleyear.append(\"\")  # Append an empty string if no year is found\n",
        "        print(\"Year not found\")"
      ],
      "metadata": {
        "colab": {
          "base_uri": "https://localhost:8080/"
        },
        "id": "TvHuJR0wWI3i",
        "outputId": "d3942bd2-bf43-4411-dd22-453c670699ea"
      },
      "execution_count": 134,
      "outputs": [
        {
          "output_type": "stream",
          "name": "stdout",
          "text": [
            "2021\n",
            "2022\n",
            "2021\n",
            "2015\n",
            "2020\n",
            "2020\n",
            "2023\n",
            "2022\n",
            "2023\n",
            "2022\n",
            "2015\n",
            "2018\n",
            "2023\n",
            "2005\n",
            "2019\n",
            "2022\n",
            "2019\n",
            "2023\n",
            "2022\n",
            "2019\n"
          ]
        }
      ]
    },
    {
      "cell_type": "code",
      "source": [
        "titleepisodes=[]\n",
        "for i in types:\n",
        "    episode_match = re.search(r'(\\d+) episode', i)\n",
        "    if episode_match:\n",
        "        episodes = episode_match.group(1)\n",
        "        titleepisodes.append(episodes)\n",
        "        print(episodes)\n",
        "    else:\n",
        "        titleepisodes.append(\"\")  # Append an empty string if no episodes are found\n",
        "        print(\"Number of episodes not found\")"
      ],
      "metadata": {
        "colab": {
          "base_uri": "https://localhost:8080/"
        },
        "id": "AHiyrGC7Wrw0",
        "outputId": "d8044aff-e426-4a47-8c3b-6d78436f217b"
      },
      "execution_count": 135,
      "outputs": [
        {
          "output_type": "stream",
          "name": "stdout",
          "text": [
            "10\n",
            "8\n",
            "12\n",
            "54\n",
            "16\n",
            "12\n",
            "25\n",
            "20\n",
            "20\n",
            "15\n",
            "20\n",
            "16\n",
            "24\n",
            "11\n",
            "46\n",
            "29\n",
            "50\n",
            "40\n",
            "16\n",
            "13\n"
          ]
        }
      ]
    },
    {
      "cell_type": "code",
      "source": [
        "links = []\n",
        "for t in soup.select('h6.text-primary.title a'):\n",
        "  href = t.attrs.get('href')\n",
        "  if href is not None:\n",
        "    links.append(\"https://mydramalist.com\" + href)\n",
        "\n",
        "for t in links:\n",
        "    print(t)"
      ],
      "metadata": {
        "colab": {
          "base_uri": "https://localhost:8080/"
        },
        "id": "WZrinWRa9JOv",
        "outputId": "2fac985d-93e8-43e5-e5a3-7986391d815c"
      },
      "execution_count": 113,
      "outputs": [
        {
          "output_type": "stream",
          "name": "stdout",
          "text": [
            "https://mydramalist.com/49231-move-to-heaven\n",
            "https://mydramalist.com/702267-weak-hero\n",
            "https://mydramalist.com/57173-hospital-playlist-2\n",
            "https://mydramalist.com/9025-nirvana-in-fire\n",
            "https://mydramalist.com/54625-flower-of-evil\n",
            "https://mydramalist.com/36269-doctor-playbook\n",
            "https://mydramalist.com/729705-hidden-love\n",
            "https://mydramalist.com/52939-can-this-person-be-translated\n",
            "https://mydramalist.com/25560-moving\n",
            "https://mydramalist.com/697563-kai-duan\n",
            "https://mydramalist.com/13544-reply-1988\n",
            "https://mydramalist.com/25172-my-ajusshi\n",
            "https://mydramalist.com/62295-luo-yao-knew-what-he-meant\n",
            "https://mydramalist.com/2-1-litre-no-namida\n",
            "https://mydramalist.com/28674-joy-of-life\n",
            "https://mydramalist.com/729363-love-like-the-galaxy-part-2\n",
            "https://mydramalist.com/28723-the-untamed\n",
            "https://mydramalist.com/713331-the-lotus-casebook\n",
            "https://mydramalist.com/705857-umbrella\n",
            "https://mydramalist.com/39715-some-day-or-one-day\n"
          ]
        }
      ]
    },
    {
      "cell_type": "code",
      "source": [
        "Rates = soup.select('span.score')\n",
        "print(Rates)"
      ],
      "metadata": {
        "colab": {
          "base_uri": "https://localhost:8080/"
        },
        "id": "XUOXQSvZF-JU",
        "outputId": "8aef290b-fd38-4e72-e7ee-d2fcd34900c8"
      },
      "execution_count": 114,
      "outputs": [
        {
          "output_type": "stream",
          "name": "stdout",
          "text": [
            "[<span class=\"p-l-xs score\">9.2</span>, <span class=\"p-l-xs score\">9.1</span>, <span class=\"p-l-xs score\">9.1</span>, <span class=\"p-l-xs score\">9.1</span>, <span class=\"p-l-xs score\">9.1</span>, <span class=\"p-l-xs score\">9.1</span>, <span class=\"p-l-xs score\">9.1</span>, <span class=\"p-l-xs score\">9.1</span>, <span class=\"p-l-xs score\">9.1</span>, <span class=\"p-l-xs score\">9.1</span>, <span class=\"p-l-xs score\">9.1</span>, <span class=\"p-l-xs score\">9.0</span>, <span class=\"p-l-xs score\">9.0</span>, <span class=\"p-l-xs score\">9.0</span>, <span class=\"p-l-xs score\">9.0</span>, <span class=\"p-l-xs score\">9.0</span>, <span class=\"p-l-xs score\">9.0</span>, <span class=\"p-l-xs score\">9.0</span>, <span class=\"p-l-xs score\">9.0</span>, <span class=\"p-l-xs score\">9.0</span>]\n"
          ]
        }
      ]
    },
    {
      "cell_type": "code",
      "source": [
        "ratings = []\n",
        "title_ratings = [t.get_text() for t in Rates]\n",
        "for i in title_ratings:\n",
        "    ratings.append(i)\n",
        "    print(i)"
      ],
      "metadata": {
        "colab": {
          "base_uri": "https://localhost:8080/"
        },
        "id": "_0LFHfhSGF6S",
        "outputId": "3fb48967-8973-4ff2-d27c-f4058607b058"
      },
      "execution_count": 115,
      "outputs": [
        {
          "output_type": "stream",
          "name": "stdout",
          "text": [
            "9.2\n",
            "9.1\n",
            "9.1\n",
            "9.1\n",
            "9.1\n",
            "9.1\n",
            "9.1\n",
            "9.1\n",
            "9.1\n",
            "9.1\n",
            "9.1\n",
            "9.0\n",
            "9.0\n",
            "9.0\n",
            "9.0\n",
            "9.0\n",
            "9.0\n",
            "9.0\n",
            "9.0\n",
            "9.0\n"
          ]
        }
      ]
    },
    {
      "cell_type": "code",
      "source": [
        "Ranking = soup.select('div.ranking.pull-right')\n",
        "print(Ranking)"
      ],
      "metadata": {
        "colab": {
          "base_uri": "https://localhost:8080/"
        },
        "id": "fhOk7yeBH3jE",
        "outputId": "0cdbaf16-3b6a-4b84-a3c9-b4c4d82cdbfe"
      },
      "execution_count": 116,
      "outputs": [
        {
          "output_type": "stream",
          "name": "stdout",
          "text": [
            "[<div class=\"ranking pull-right\"><span>#1</span></div>, <div class=\"ranking pull-right\"><span>#2</span></div>, <div class=\"ranking pull-right\"><span>#3</span></div>, <div class=\"ranking pull-right\"><span>#4</span></div>, <div class=\"ranking pull-right\"><span>#5</span></div>, <div class=\"ranking pull-right\"><span>#6</span></div>, <div class=\"ranking pull-right\"><span>#7</span></div>, <div class=\"ranking pull-right\"><span>#8</span></div>, <div class=\"ranking pull-right\"><span>#9</span></div>, <div class=\"ranking pull-right\"><span>#10</span></div>, <div class=\"ranking pull-right\"><span>#11</span></div>, <div class=\"ranking pull-right\"><span>#12</span></div>, <div class=\"ranking pull-right\"><span>#13</span></div>, <div class=\"ranking pull-right\"><span>#14</span></div>, <div class=\"ranking pull-right\"><span>#15</span></div>, <div class=\"ranking pull-right\"><span>#16</span></div>, <div class=\"ranking pull-right\"><span>#17</span></div>, <div class=\"ranking pull-right\"><span>#18</span></div>, <div class=\"ranking pull-right\"><span>#19</span></div>, <div class=\"ranking pull-right\"><span>#20</span></div>]\n"
          ]
        }
      ]
    },
    {
      "cell_type": "code",
      "source": [
        "rankings= []\n",
        "title_rankings = [t.get_text() for t in Ranking]\n",
        "for i in title_rankings:\n",
        "    rankings.append(i)\n",
        "    print(i)"
      ],
      "metadata": {
        "colab": {
          "base_uri": "https://localhost:8080/"
        },
        "id": "CCI9J2WYIZB2",
        "outputId": "0f21dcd2-2aef-4ecc-cb2f-78e72d8a68ca"
      },
      "execution_count": 117,
      "outputs": [
        {
          "output_type": "stream",
          "name": "stdout",
          "text": [
            "#1\n",
            "#2\n",
            "#3\n",
            "#4\n",
            "#5\n",
            "#6\n",
            "#7\n",
            "#8\n",
            "#9\n",
            "#10\n",
            "#11\n",
            "#12\n",
            "#13\n",
            "#14\n",
            "#15\n",
            "#16\n",
            "#17\n",
            "#18\n",
            "#19\n",
            "#20\n"
          ]
        }
      ]
    },
    {
      "cell_type": "code",
      "source": [
        "min_length = min(len(dramatitles), len(titletype), len(ratings), len(rankings), len(links), len(titleyear), len(titleepisodes))"
      ],
      "metadata": {
        "id": "v0dHhxxfQFqF"
      },
      "execution_count": 141,
      "outputs": []
    },
    {
      "cell_type": "code",
      "source": [
        "df = pd.DataFrame({\n",
        "    'Rank': rankings[:min_length],\n",
        "    'Drama Name': dramatitles[:min_length],\n",
        "    'Type': titletype[:min_length],\n",
        "    'Year Released': titleyear[:min_length],\n",
        "    'Episodes': titleepisodes[:min_length],\n",
        "    'Ratings': ratings[:min_length],\n",
        "    'Link':links[:min_length],\n",
        "})"
      ],
      "metadata": {
        "id": "7P_P2I6cRv02"
      },
      "execution_count": 142,
      "outputs": []
    },
    {
      "cell_type": "code",
      "source": [
        "print(df.head())"
      ],
      "metadata": {
        "colab": {
          "base_uri": "https://localhost:8080/"
        },
        "id": "7EHv83FlQJtj",
        "outputId": "2217ba27-39de-4604-a471-fbc0abd7e41a"
      },
      "execution_count": 143,
      "outputs": [
        {
          "output_type": "stream",
          "name": "stdout",
          "text": [
            "  Rank                  Drama Name           Type Year Released Episodes  \\\n",
            "0   #1              Move to Heaven   Korean Drama          2021       10   \n",
            "1   #2           Weak Hero Class 1   Korean Drama          2022        8   \n",
            "2   #3  Hospital Playlist Season 2   Korean Drama          2021       12   \n",
            "3   #4             Nirvana in Fire  Chinese Drama          2015       54   \n",
            "4   #5              Flower of Evil   Korean Drama          2020       16   \n",
            "\n",
            "  Ratings                                               Link  \n",
            "0     9.2       https://mydramalist.com/49231-move-to-heaven  \n",
            "1     9.1           https://mydramalist.com/702267-weak-hero  \n",
            "2     9.1  https://mydramalist.com/57173-hospital-playlist-2  \n",
            "3     9.1       https://mydramalist.com/9025-nirvana-in-fire  \n",
            "4     9.1       https://mydramalist.com/54625-flower-of-evil  \n"
          ]
        }
      ]
    },
    {
      "cell_type": "code",
      "source": [
        "df.to_csv('moviesrating.csv', index=False)"
      ],
      "metadata": {
        "id": "gq45kSNcQTwp"
      },
      "execution_count": 144,
      "outputs": []
    },
    {
      "cell_type": "code",
      "source": [
        "pd.read_csv(\"moviesrating.csv\", index_col=0)"
      ],
      "metadata": {
        "colab": {
          "base_uri": "https://localhost:8080/",
          "height": 564
        },
        "id": "m5vkvFZhkZtz",
        "outputId": "bafeb9b7-a8c6-489c-a0d0-5e8d455b1f81"
      },
      "execution_count": 145,
      "outputs": [
        {
          "output_type": "execute_result",
          "data": {
            "text/plain": [
              "                        Drama Name             Type  Year Released  Episodes  \\\n",
              "Rank                                                                           \n",
              "#1                  Move to Heaven     Korean Drama           2021        10   \n",
              "#2               Weak Hero Class 1     Korean Drama           2022         8   \n",
              "#3      Hospital Playlist Season 2     Korean Drama           2021        12   \n",
              "#4                 Nirvana in Fire    Chinese Drama           2015        54   \n",
              "#5                  Flower of Evil     Korean Drama           2020        16   \n",
              "#6               Hospital Playlist     Korean Drama           2020        12   \n",
              "#7                     Hidden Love    Chinese Drama           2023        25   \n",
              "#8                Alchemy of Souls     Korean Drama           2022        20   \n",
              "#9                          Moving     Korean Drama           2023        20   \n",
              "#10                          Reset    Chinese Drama           2022        15   \n",
              "#11                     Reply 1988     Korean Drama           2015        20   \n",
              "#12                      My Mister     Korean Drama           2018        16   \n",
              "#13         When I Fly Towards You    Chinese Drama           2023        24   \n",
              "#14              1 Litre no Namida   Japanese Drama           2005        11   \n",
              "#15                    Joy of Life    Chinese Drama           2019        46   \n",
              "#16   Love Like the Galaxy: Part 2    Chinese Drama           2022        29   \n",
              "#17                    The Untamed    Chinese Drama           2019        50   \n",
              "#18      Mysterious Lotus Casebook    Chinese Drama           2023        40   \n",
              "#19     Under the Queen's Umbrella     Korean Drama           2022        16   \n",
              "#20             Someday or One Day  Taiwanese Drama           2019        13   \n",
              "\n",
              "      Ratings                                               Link  \n",
              "Rank                                                              \n",
              "#1        9.2       https://mydramalist.com/49231-move-to-heaven  \n",
              "#2        9.1           https://mydramalist.com/702267-weak-hero  \n",
              "#3        9.1  https://mydramalist.com/57173-hospital-playlist-2  \n",
              "#4        9.1       https://mydramalist.com/9025-nirvana-in-fire  \n",
              "#5        9.1       https://mydramalist.com/54625-flower-of-evil  \n",
              "#6        9.1      https://mydramalist.com/36269-doctor-playbook  \n",
              "#7        9.1         https://mydramalist.com/729705-hidden-love  \n",
              "#8        9.1  https://mydramalist.com/52939-can-this-person-...  \n",
              "#9        9.1               https://mydramalist.com/25560-moving  \n",
              "#10       9.1            https://mydramalist.com/697563-kai-duan  \n",
              "#11       9.1           https://mydramalist.com/13544-reply-1988  \n",
              "#12       9.0           https://mydramalist.com/25172-my-ajusshi  \n",
              "#13       9.0  https://mydramalist.com/62295-luo-yao-knew-wha...  \n",
              "#14       9.0        https://mydramalist.com/2-1-litre-no-namida  \n",
              "#15       9.0          https://mydramalist.com/28674-joy-of-life  \n",
              "#16       9.0  https://mydramalist.com/729363-love-like-the-g...  \n",
              "#17       9.0          https://mydramalist.com/28723-the-untamed  \n",
              "#18       9.0  https://mydramalist.com/713331-the-lotus-casebook  \n",
              "#19       9.0            https://mydramalist.com/705857-umbrella  \n",
              "#20       9.0  https://mydramalist.com/39715-some-day-or-one-day  "
            ],
            "text/html": [
              "\n",
              "  <div id=\"df-05f09f0d-ca03-4428-a9a0-b69b8c88d9b7\" class=\"colab-df-container\">\n",
              "    <div>\n",
              "<style scoped>\n",
              "    .dataframe tbody tr th:only-of-type {\n",
              "        vertical-align: middle;\n",
              "    }\n",
              "\n",
              "    .dataframe tbody tr th {\n",
              "        vertical-align: top;\n",
              "    }\n",
              "\n",
              "    .dataframe thead th {\n",
              "        text-align: right;\n",
              "    }\n",
              "</style>\n",
              "<table border=\"1\" class=\"dataframe\">\n",
              "  <thead>\n",
              "    <tr style=\"text-align: right;\">\n",
              "      <th></th>\n",
              "      <th>Drama Name</th>\n",
              "      <th>Type</th>\n",
              "      <th>Year Released</th>\n",
              "      <th>Episodes</th>\n",
              "      <th>Ratings</th>\n",
              "      <th>Link</th>\n",
              "    </tr>\n",
              "    <tr>\n",
              "      <th>Rank</th>\n",
              "      <th></th>\n",
              "      <th></th>\n",
              "      <th></th>\n",
              "      <th></th>\n",
              "      <th></th>\n",
              "      <th></th>\n",
              "    </tr>\n",
              "  </thead>\n",
              "  <tbody>\n",
              "    <tr>\n",
              "      <th>#1</th>\n",
              "      <td>Move to Heaven</td>\n",
              "      <td>Korean Drama</td>\n",
              "      <td>2021</td>\n",
              "      <td>10</td>\n",
              "      <td>9.2</td>\n",
              "      <td>https://mydramalist.com/49231-move-to-heaven</td>\n",
              "    </tr>\n",
              "    <tr>\n",
              "      <th>#2</th>\n",
              "      <td>Weak Hero Class 1</td>\n",
              "      <td>Korean Drama</td>\n",
              "      <td>2022</td>\n",
              "      <td>8</td>\n",
              "      <td>9.1</td>\n",
              "      <td>https://mydramalist.com/702267-weak-hero</td>\n",
              "    </tr>\n",
              "    <tr>\n",
              "      <th>#3</th>\n",
              "      <td>Hospital Playlist Season 2</td>\n",
              "      <td>Korean Drama</td>\n",
              "      <td>2021</td>\n",
              "      <td>12</td>\n",
              "      <td>9.1</td>\n",
              "      <td>https://mydramalist.com/57173-hospital-playlist-2</td>\n",
              "    </tr>\n",
              "    <tr>\n",
              "      <th>#4</th>\n",
              "      <td>Nirvana in Fire</td>\n",
              "      <td>Chinese Drama</td>\n",
              "      <td>2015</td>\n",
              "      <td>54</td>\n",
              "      <td>9.1</td>\n",
              "      <td>https://mydramalist.com/9025-nirvana-in-fire</td>\n",
              "    </tr>\n",
              "    <tr>\n",
              "      <th>#5</th>\n",
              "      <td>Flower of Evil</td>\n",
              "      <td>Korean Drama</td>\n",
              "      <td>2020</td>\n",
              "      <td>16</td>\n",
              "      <td>9.1</td>\n",
              "      <td>https://mydramalist.com/54625-flower-of-evil</td>\n",
              "    </tr>\n",
              "    <tr>\n",
              "      <th>#6</th>\n",
              "      <td>Hospital Playlist</td>\n",
              "      <td>Korean Drama</td>\n",
              "      <td>2020</td>\n",
              "      <td>12</td>\n",
              "      <td>9.1</td>\n",
              "      <td>https://mydramalist.com/36269-doctor-playbook</td>\n",
              "    </tr>\n",
              "    <tr>\n",
              "      <th>#7</th>\n",
              "      <td>Hidden Love</td>\n",
              "      <td>Chinese Drama</td>\n",
              "      <td>2023</td>\n",
              "      <td>25</td>\n",
              "      <td>9.1</td>\n",
              "      <td>https://mydramalist.com/729705-hidden-love</td>\n",
              "    </tr>\n",
              "    <tr>\n",
              "      <th>#8</th>\n",
              "      <td>Alchemy of Souls</td>\n",
              "      <td>Korean Drama</td>\n",
              "      <td>2022</td>\n",
              "      <td>20</td>\n",
              "      <td>9.1</td>\n",
              "      <td>https://mydramalist.com/52939-can-this-person-...</td>\n",
              "    </tr>\n",
              "    <tr>\n",
              "      <th>#9</th>\n",
              "      <td>Moving</td>\n",
              "      <td>Korean Drama</td>\n",
              "      <td>2023</td>\n",
              "      <td>20</td>\n",
              "      <td>9.1</td>\n",
              "      <td>https://mydramalist.com/25560-moving</td>\n",
              "    </tr>\n",
              "    <tr>\n",
              "      <th>#10</th>\n",
              "      <td>Reset</td>\n",
              "      <td>Chinese Drama</td>\n",
              "      <td>2022</td>\n",
              "      <td>15</td>\n",
              "      <td>9.1</td>\n",
              "      <td>https://mydramalist.com/697563-kai-duan</td>\n",
              "    </tr>\n",
              "    <tr>\n",
              "      <th>#11</th>\n",
              "      <td>Reply 1988</td>\n",
              "      <td>Korean Drama</td>\n",
              "      <td>2015</td>\n",
              "      <td>20</td>\n",
              "      <td>9.1</td>\n",
              "      <td>https://mydramalist.com/13544-reply-1988</td>\n",
              "    </tr>\n",
              "    <tr>\n",
              "      <th>#12</th>\n",
              "      <td>My Mister</td>\n",
              "      <td>Korean Drama</td>\n",
              "      <td>2018</td>\n",
              "      <td>16</td>\n",
              "      <td>9.0</td>\n",
              "      <td>https://mydramalist.com/25172-my-ajusshi</td>\n",
              "    </tr>\n",
              "    <tr>\n",
              "      <th>#13</th>\n",
              "      <td>When I Fly Towards You</td>\n",
              "      <td>Chinese Drama</td>\n",
              "      <td>2023</td>\n",
              "      <td>24</td>\n",
              "      <td>9.0</td>\n",
              "      <td>https://mydramalist.com/62295-luo-yao-knew-wha...</td>\n",
              "    </tr>\n",
              "    <tr>\n",
              "      <th>#14</th>\n",
              "      <td>1 Litre no Namida</td>\n",
              "      <td>Japanese Drama</td>\n",
              "      <td>2005</td>\n",
              "      <td>11</td>\n",
              "      <td>9.0</td>\n",
              "      <td>https://mydramalist.com/2-1-litre-no-namida</td>\n",
              "    </tr>\n",
              "    <tr>\n",
              "      <th>#15</th>\n",
              "      <td>Joy of Life</td>\n",
              "      <td>Chinese Drama</td>\n",
              "      <td>2019</td>\n",
              "      <td>46</td>\n",
              "      <td>9.0</td>\n",
              "      <td>https://mydramalist.com/28674-joy-of-life</td>\n",
              "    </tr>\n",
              "    <tr>\n",
              "      <th>#16</th>\n",
              "      <td>Love Like the Galaxy: Part 2</td>\n",
              "      <td>Chinese Drama</td>\n",
              "      <td>2022</td>\n",
              "      <td>29</td>\n",
              "      <td>9.0</td>\n",
              "      <td>https://mydramalist.com/729363-love-like-the-g...</td>\n",
              "    </tr>\n",
              "    <tr>\n",
              "      <th>#17</th>\n",
              "      <td>The Untamed</td>\n",
              "      <td>Chinese Drama</td>\n",
              "      <td>2019</td>\n",
              "      <td>50</td>\n",
              "      <td>9.0</td>\n",
              "      <td>https://mydramalist.com/28723-the-untamed</td>\n",
              "    </tr>\n",
              "    <tr>\n",
              "      <th>#18</th>\n",
              "      <td>Mysterious Lotus Casebook</td>\n",
              "      <td>Chinese Drama</td>\n",
              "      <td>2023</td>\n",
              "      <td>40</td>\n",
              "      <td>9.0</td>\n",
              "      <td>https://mydramalist.com/713331-the-lotus-casebook</td>\n",
              "    </tr>\n",
              "    <tr>\n",
              "      <th>#19</th>\n",
              "      <td>Under the Queen's Umbrella</td>\n",
              "      <td>Korean Drama</td>\n",
              "      <td>2022</td>\n",
              "      <td>16</td>\n",
              "      <td>9.0</td>\n",
              "      <td>https://mydramalist.com/705857-umbrella</td>\n",
              "    </tr>\n",
              "    <tr>\n",
              "      <th>#20</th>\n",
              "      <td>Someday or One Day</td>\n",
              "      <td>Taiwanese Drama</td>\n",
              "      <td>2019</td>\n",
              "      <td>13</td>\n",
              "      <td>9.0</td>\n",
              "      <td>https://mydramalist.com/39715-some-day-or-one-day</td>\n",
              "    </tr>\n",
              "  </tbody>\n",
              "</table>\n",
              "</div>\n",
              "    <div class=\"colab-df-buttons\">\n",
              "\n",
              "  <div class=\"colab-df-container\">\n",
              "    <button class=\"colab-df-convert\" onclick=\"convertToInteractive('df-05f09f0d-ca03-4428-a9a0-b69b8c88d9b7')\"\n",
              "            title=\"Convert this dataframe to an interactive table.\"\n",
              "            style=\"display:none;\">\n",
              "\n",
              "  <svg xmlns=\"http://www.w3.org/2000/svg\" height=\"24px\" viewBox=\"0 -960 960 960\">\n",
              "    <path d=\"M120-120v-720h720v720H120Zm60-500h600v-160H180v160Zm220 220h160v-160H400v160Zm0 220h160v-160H400v160ZM180-400h160v-160H180v160Zm440 0h160v-160H620v160ZM180-180h160v-160H180v160Zm440 0h160v-160H620v160Z\"/>\n",
              "  </svg>\n",
              "    </button>\n",
              "\n",
              "  <style>\n",
              "    .colab-df-container {\n",
              "      display:flex;\n",
              "      gap: 12px;\n",
              "    }\n",
              "\n",
              "    .colab-df-convert {\n",
              "      background-color: #E8F0FE;\n",
              "      border: none;\n",
              "      border-radius: 50%;\n",
              "      cursor: pointer;\n",
              "      display: none;\n",
              "      fill: #1967D2;\n",
              "      height: 32px;\n",
              "      padding: 0 0 0 0;\n",
              "      width: 32px;\n",
              "    }\n",
              "\n",
              "    .colab-df-convert:hover {\n",
              "      background-color: #E2EBFA;\n",
              "      box-shadow: 0px 1px 2px rgba(60, 64, 67, 0.3), 0px 1px 3px 1px rgba(60, 64, 67, 0.15);\n",
              "      fill: #174EA6;\n",
              "    }\n",
              "\n",
              "    .colab-df-buttons div {\n",
              "      margin-bottom: 4px;\n",
              "    }\n",
              "\n",
              "    [theme=dark] .colab-df-convert {\n",
              "      background-color: #3B4455;\n",
              "      fill: #D2E3FC;\n",
              "    }\n",
              "\n",
              "    [theme=dark] .colab-df-convert:hover {\n",
              "      background-color: #434B5C;\n",
              "      box-shadow: 0px 1px 3px 1px rgba(0, 0, 0, 0.15);\n",
              "      filter: drop-shadow(0px 1px 2px rgba(0, 0, 0, 0.3));\n",
              "      fill: #FFFFFF;\n",
              "    }\n",
              "  </style>\n",
              "\n",
              "    <script>\n",
              "      const buttonEl =\n",
              "        document.querySelector('#df-05f09f0d-ca03-4428-a9a0-b69b8c88d9b7 button.colab-df-convert');\n",
              "      buttonEl.style.display =\n",
              "        google.colab.kernel.accessAllowed ? 'block' : 'none';\n",
              "\n",
              "      async function convertToInteractive(key) {\n",
              "        const element = document.querySelector('#df-05f09f0d-ca03-4428-a9a0-b69b8c88d9b7');\n",
              "        const dataTable =\n",
              "          await google.colab.kernel.invokeFunction('convertToInteractive',\n",
              "                                                    [key], {});\n",
              "        if (!dataTable) return;\n",
              "\n",
              "        const docLinkHtml = 'Like what you see? Visit the ' +\n",
              "          '<a target=\"_blank\" href=https://colab.research.google.com/notebooks/data_table.ipynb>data table notebook</a>'\n",
              "          + ' to learn more about interactive tables.';\n",
              "        element.innerHTML = '';\n",
              "        dataTable['output_type'] = 'display_data';\n",
              "        await google.colab.output.renderOutput(dataTable, element);\n",
              "        const docLink = document.createElement('div');\n",
              "        docLink.innerHTML = docLinkHtml;\n",
              "        element.appendChild(docLink);\n",
              "      }\n",
              "    </script>\n",
              "  </div>\n",
              "\n",
              "\n",
              "<div id=\"df-60320176-053b-4271-8dda-51edca5a1299\">\n",
              "  <button class=\"colab-df-quickchart\" onclick=\"quickchart('df-60320176-053b-4271-8dda-51edca5a1299')\"\n",
              "            title=\"Suggest charts.\"\n",
              "            style=\"display:none;\">\n",
              "\n",
              "<svg xmlns=\"http://www.w3.org/2000/svg\" height=\"24px\"viewBox=\"0 0 24 24\"\n",
              "     width=\"24px\">\n",
              "    <g>\n",
              "        <path d=\"M19 3H5c-1.1 0-2 .9-2 2v14c0 1.1.9 2 2 2h14c1.1 0 2-.9 2-2V5c0-1.1-.9-2-2-2zM9 17H7v-7h2v7zm4 0h-2V7h2v10zm4 0h-2v-4h2v4z\"/>\n",
              "    </g>\n",
              "</svg>\n",
              "  </button>\n",
              "\n",
              "<style>\n",
              "  .colab-df-quickchart {\n",
              "      --bg-color: #E8F0FE;\n",
              "      --fill-color: #1967D2;\n",
              "      --hover-bg-color: #E2EBFA;\n",
              "      --hover-fill-color: #174EA6;\n",
              "      --disabled-fill-color: #AAA;\n",
              "      --disabled-bg-color: #DDD;\n",
              "  }\n",
              "\n",
              "  [theme=dark] .colab-df-quickchart {\n",
              "      --bg-color: #3B4455;\n",
              "      --fill-color: #D2E3FC;\n",
              "      --hover-bg-color: #434B5C;\n",
              "      --hover-fill-color: #FFFFFF;\n",
              "      --disabled-bg-color: #3B4455;\n",
              "      --disabled-fill-color: #666;\n",
              "  }\n",
              "\n",
              "  .colab-df-quickchart {\n",
              "    background-color: var(--bg-color);\n",
              "    border: none;\n",
              "    border-radius: 50%;\n",
              "    cursor: pointer;\n",
              "    display: none;\n",
              "    fill: var(--fill-color);\n",
              "    height: 32px;\n",
              "    padding: 0;\n",
              "    width: 32px;\n",
              "  }\n",
              "\n",
              "  .colab-df-quickchart:hover {\n",
              "    background-color: var(--hover-bg-color);\n",
              "    box-shadow: 0 1px 2px rgba(60, 64, 67, 0.3), 0 1px 3px 1px rgba(60, 64, 67, 0.15);\n",
              "    fill: var(--button-hover-fill-color);\n",
              "  }\n",
              "\n",
              "  .colab-df-quickchart-complete:disabled,\n",
              "  .colab-df-quickchart-complete:disabled:hover {\n",
              "    background-color: var(--disabled-bg-color);\n",
              "    fill: var(--disabled-fill-color);\n",
              "    box-shadow: none;\n",
              "  }\n",
              "\n",
              "  .colab-df-spinner {\n",
              "    border: 2px solid var(--fill-color);\n",
              "    border-color: transparent;\n",
              "    border-bottom-color: var(--fill-color);\n",
              "    animation:\n",
              "      spin 1s steps(1) infinite;\n",
              "  }\n",
              "\n",
              "  @keyframes spin {\n",
              "    0% {\n",
              "      border-color: transparent;\n",
              "      border-bottom-color: var(--fill-color);\n",
              "      border-left-color: var(--fill-color);\n",
              "    }\n",
              "    20% {\n",
              "      border-color: transparent;\n",
              "      border-left-color: var(--fill-color);\n",
              "      border-top-color: var(--fill-color);\n",
              "    }\n",
              "    30% {\n",
              "      border-color: transparent;\n",
              "      border-left-color: var(--fill-color);\n",
              "      border-top-color: var(--fill-color);\n",
              "      border-right-color: var(--fill-color);\n",
              "    }\n",
              "    40% {\n",
              "      border-color: transparent;\n",
              "      border-right-color: var(--fill-color);\n",
              "      border-top-color: var(--fill-color);\n",
              "    }\n",
              "    60% {\n",
              "      border-color: transparent;\n",
              "      border-right-color: var(--fill-color);\n",
              "    }\n",
              "    80% {\n",
              "      border-color: transparent;\n",
              "      border-right-color: var(--fill-color);\n",
              "      border-bottom-color: var(--fill-color);\n",
              "    }\n",
              "    90% {\n",
              "      border-color: transparent;\n",
              "      border-bottom-color: var(--fill-color);\n",
              "    }\n",
              "  }\n",
              "</style>\n",
              "\n",
              "  <script>\n",
              "    async function quickchart(key) {\n",
              "      const quickchartButtonEl =\n",
              "        document.querySelector('#' + key + ' button');\n",
              "      quickchartButtonEl.disabled = true;  // To prevent multiple clicks.\n",
              "      quickchartButtonEl.classList.add('colab-df-spinner');\n",
              "      try {\n",
              "        const charts = await google.colab.kernel.invokeFunction(\n",
              "            'suggestCharts', [key], {});\n",
              "      } catch (error) {\n",
              "        console.error('Error during call to suggestCharts:', error);\n",
              "      }\n",
              "      quickchartButtonEl.classList.remove('colab-df-spinner');\n",
              "      quickchartButtonEl.classList.add('colab-df-quickchart-complete');\n",
              "    }\n",
              "    (() => {\n",
              "      let quickchartButtonEl =\n",
              "        document.querySelector('#df-60320176-053b-4271-8dda-51edca5a1299 button');\n",
              "      quickchartButtonEl.style.display =\n",
              "        google.colab.kernel.accessAllowed ? 'block' : 'none';\n",
              "    })();\n",
              "  </script>\n",
              "</div>\n",
              "    </div>\n",
              "  </div>\n"
            ]
          },
          "metadata": {},
          "execution_count": 145
        }
      ]
    }
  ]
}